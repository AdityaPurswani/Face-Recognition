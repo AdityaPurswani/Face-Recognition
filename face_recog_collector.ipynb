{
 "cells": [
  {
   "cell_type": "code",
   "execution_count": 12,
   "metadata": {},
   "outputs": [],
   "source": [
    "import cv2\n",
    "import numpy as np\n",
    "import os\n",
    "detector = cv2.CascadeClassifier('haarcascade_frontalface_default.xml')\n",
    "\n",
    "cap = cv2.VideoCapture(0)\n",
    "\n",
    "name = input(\"Enter your name...\")\n",
    "frames = []\n",
    "outputs = []\n",
    "while True:\n",
    "    ret, frame = cap.read()\n",
    "    gray = cv2.cvtColor(frame, cv2.COLOR_BGR2GRAY)\n",
    "\n",
    "    faces = detector.detectMultiScale(frame)\n",
    "\n",
    "    for face in faces:\n",
    "        x, y, w, h = face \n",
    "        cut = frame[y:y+h, x:x+w]\n",
    "\n",
    "        fix = cv2.resize(cut, (100, 100))\n",
    "        gray = cv2.cvtColor(fix, cv2.COLOR_BGR2GRAY)\n",
    "    cv2.imshow(\"My Frame\", frame)\n",
    "    cv2.imshow(\"My Face\", gray)\n",
    "\n",
    "    k = cv2.waitKey(5)\n",
    "    if k == ord('q'):\n",
    "        break\n",
    "    \n",
    "    if cv2.waitKey(5) == ord('c'):\n",
    "        #cv2.imwrite(name + \".jpg\", frame)\n",
    "        frames.append(gray.flatten())\n",
    "        outputs.append([name])\n",
    "\n",
    "X = np.array(frames)\n",
    "y = np.array(outputs)\n",
    "\n",
    "data = np.hstack([y, X])\n",
    "\n",
    "f_name = \"face_data.npy\"\n",
    "\n",
    "# For file exits or not refer sr.py down\n",
    "if os.path.exists(f_name):\n",
    "    old_data = np.load(f_name)\n",
    "    data = np.vstack([old_data, data])\n",
    "\n",
    "np.save(f_name, data)\n",
    "cap.release()\n",
    "cv2.destroyAllWindows()"
   ]
  },
  {
   "cell_type": "code",
   "execution_count": null,
   "metadata": {},
   "outputs": [],
   "source": []
  },
  {
   "cell_type": "code",
   "execution_count": null,
   "metadata": {},
   "outputs": [],
   "source": []
  }
 ],
 "metadata": {
  "interpreter": {
   "hash": "f6394c90f8077e500a8de7387a73e120489b28f35bb91a2b86f36fd15e45a60b"
  },
  "kernelspec": {
   "display_name": "Python 3.10.0 64-bit",
   "name": "python3"
  },
  "language_info": {
   "codemirror_mode": {
    "name": "ipython",
    "version": 3
   },
   "file_extension": ".py",
   "mimetype": "text/x-python",
   "name": "python",
   "nbconvert_exporter": "python",
   "pygments_lexer": "ipython3",
   "version": "3.10.0"
  },
  "orig_nbformat": 4
 },
 "nbformat": 4,
 "nbformat_minor": 2
}
